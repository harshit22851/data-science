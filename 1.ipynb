{
 "cells": [
  {
   "cell_type": "code",
   "execution_count": 1,
   "id": "ed2ecc16",
   "metadata": {},
   "outputs": [],
   "source": [
    "import csv\n",
    "\n",
    "with open('Questionnaire_datasetIA.csv', 'r') as input_file, open('outputIA.csv', 'w', newline='') as output_file:\n",
    "    reader = csv.reader(input_file)\n",
    "    writer = csv.writer(output_file)\n",
    "    for row in reader:\n",
    "        writer.writerow([row[0], row[47]])\n"
   ]
  },
  {
   "cell_type": "code",
   "execution_count": 2,
   "id": "68690c1b",
   "metadata": {},
   "outputs": [],
   "source": [
    "import csv\n",
    "\n",
    "with open('Questionnaire_datasetIB.csv', 'r') as input_file, open('outputIB.csv', 'w', newline='') as output_file:\n",
    "    reader = csv.reader(input_file)\n",
    "    writer = csv.writer(output_file)\n",
    "    for row in reader:\n",
    "        writer.writerow([row[0], row[47]])\n"
   ]
  },
  {
   "cell_type": "code",
   "execution_count": 3,
   "id": "4bab02f9",
   "metadata": {},
   "outputs": [],
   "source": [
    "import pandas as pd\n",
    "\n",
    "# read the CSV file into a pandas dataframe\n",
    "df = pd.read_csv('outputIA.csv')\n",
    "\n",
    "# rename the columns\n",
    "df = df.rename(columns={'Participant nr': 'Participant name'})\n",
    "# Pad the numbers with leading zeros and convert to strings\n",
    "df['Participant name'] = df['Participant name'].astype(str).str.zfill(4)\n",
    "\n",
    "# Add the prefix \"participant\" to the column values\n",
    "df['Participant name'] = 'Participant' + df['Participant name']\n",
    "\n",
    "# save the renamed dataframe as a new CSV file\n",
    "df.to_csv('FinalIA.csv', index=False)\n"
   ]
  },
  {
   "cell_type": "code",
   "execution_count": 4,
   "id": "ec7fd355",
   "metadata": {},
   "outputs": [],
   "source": [
    "import pandas as pd\n",
    "\n",
    "# read the CSV file into a pandas dataframe\n",
    "df = pd.read_csv('outputIB.csv')\n",
    "\n",
    "# rename the columns\n",
    "df = df.rename(columns={'Participant nr': 'Participant name'})\n",
    "\n",
    "# Pad the numbers with leading zeros and convert to strings\n",
    "df['Participant name'] = df['Participant name'].astype(str).str.zfill(4)\n",
    "\n",
    "# Add the prefix \"participant\" to the column values\n",
    "df['Participant name'] = 'Participant' + df['Participant name']\n",
    "\n",
    "\n",
    "# save the renamed dataframe as a new CSV file\n",
    "df.to_csv('FinalIB.csv', index=False)\n"
   ]
  },
  {
   "cell_type": "code",
   "execution_count": 5,
   "id": "d80cd822",
   "metadata": {},
   "outputs": [],
   "source": [
    "import pandas as pd\n",
    "\n",
    "# read the first CSV file into a DataFrame\n",
    "df1 = pd.read_csv('FinalIa.csv')\n",
    "\n",
    "# read the second CSV file into a DataFrame\n",
    "df2 = pd.read_csv('Final1.csv')\n",
    "\n",
    "# merge the two DataFrames based on the \"Participant\" column\n",
    "merged_df = pd.merge(df1, df2, on='Participant name')\n",
    "merged_df\n",
    "\n",
    "# write the merged DataFrame to a new CSV file\n",
    "merged_df.to_csv('mergedIA.csv', index=False)\n"
   ]
  },
  {
   "cell_type": "code",
   "execution_count": 6,
   "id": "ee12933f",
   "metadata": {},
   "outputs": [],
   "source": [
    "import pandas as pd\n",
    "\n",
    "# read the first CSV file into a DataFrame\n",
    "df1 = pd.read_csv('FinalIB.csv')\n",
    "\n",
    "# read the second CSV file into a DataFrame\n",
    "df2 = pd.read_csv('Final1.csv')\n",
    "\n",
    "# merge the two DataFrames based on the \"Participant\" column\n",
    "merged_df = pd.merge(df1, df2, on='Participant name')\n",
    "merged_df\n",
    "\n",
    "# write the merged DataFrame to a new CSV file\n",
    "merged_df.to_csv('mergedIB.csv', index=False)\n"
   ]
  },
  {
   "cell_type": "code",
   "execution_count": null,
   "id": "6c7031b1",
   "metadata": {},
   "outputs": [],
   "source": []
  }
 ],
 "metadata": {
  "kernelspec": {
   "display_name": "Python 3 (ipykernel)",
   "language": "python",
   "name": "python3"
  },
  "language_info": {
   "codemirror_mode": {
    "name": "ipython",
    "version": 3
   },
   "file_extension": ".py",
   "mimetype": "text/x-python",
   "name": "python",
   "nbconvert_exporter": "python",
   "pygments_lexer": "ipython3",
   "version": "3.11.0"
  }
 },
 "nbformat": 4,
 "nbformat_minor": 5
}
